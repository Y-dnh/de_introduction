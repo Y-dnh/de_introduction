{
 "metadata": {
  "kernelspec": {
   "language": "python",
   "display_name": "Python 3",
   "name": "python3"
  },
  "language_info": {
   "name": "python",
   "version": "3.11.11",
   "mimetype": "text/x-python",
   "codemirror_mode": {
    "name": "ipython",
    "version": 3
   },
   "pygments_lexer": "ipython3",
   "nbconvert_exporter": "python",
   "file_extension": ".py"
  },
  "kaggle": {
   "accelerator": "gpu",
   "dataSources": [
    {
     "sourceId": 12479683,
     "sourceType": "datasetVersion",
     "datasetId": 7874253
    },
    {
     "sourceId": 12479684,
     "sourceType": "datasetVersion",
     "datasetId": 7874254
    }
   ],
   "dockerImageVersionId": 31041,
   "isInternetEnabled": true,
   "language": "python",
   "sourceType": "notebook",
   "isGpuEnabled": true
  }
 },
 "nbformat_minor": 4,
 "nbformat": 4,
 "cells": [
  {
   "cell_type": "code",
   "source": "!pip install ultralytics pycocotools -q",
   "metadata": {
    "trusted": true,
    "execution": {
     "iopub.status.busy": "2025-07-16T12:47:58.939322Z",
     "iopub.execute_input": "2025-07-16T12:47:58.939557Z",
     "iopub.status.idle": "2025-07-16T12:48:02.098431Z",
     "shell.execute_reply.started": "2025-07-16T12:47:58.939535Z",
     "shell.execute_reply": "2025-07-16T12:48:02.097592Z"
    }
   },
   "outputs": [],
   "execution_count": 3
  },
  {
   "cell_type": "code",
   "source": "import os\nimport csv\nimport json\nimport yaml\nimport random\nimport shutil\nimport time\nfrom datetime import datetime\n\nimport numpy as np \nimport pandas as pd \n\nimport torch\n\nfrom pycocotools.coco import COCO\nfrom ultralytics import YOLO\nimport ultralytics\nfrom ultralytics.data.converter import convert_coco",
   "metadata": {
    "trusted": true,
    "execution": {
     "iopub.status.busy": "2025-07-16T12:48:02.099582Z",
     "iopub.execute_input": "2025-07-16T12:48:02.100231Z",
     "iopub.status.idle": "2025-07-16T12:48:05.742523Z",
     "shell.execute_reply.started": "2025-07-16T12:48:02.100174Z",
     "shell.execute_reply": "2025-07-16T12:48:05.741930Z"
    }
   },
   "outputs": [
    {
     "name": "stdout",
     "text": "Creating new Ultralytics Settings v0.0.6 file ✅ \nView Ultralytics Settings with 'yolo settings' or at '/root/.config/Ultralytics/settings.json'\nUpdate Settings with 'yolo settings key=value', i.e. 'yolo settings runs_dir=path/to/dir'. For help see https://docs.ultralytics.com/quickstart/#ultralytics-settings.\n",
     "output_type": "stream"
    }
   ],
   "execution_count": 4
  },
  {
   "cell_type": "code",
   "source": "SEED = 42\nEPOCHS = 50\nBATCH_SIZE = 128\nIMAGE_SIZE = 512\nPROJECT_NAME = \"yolo8n_pt_512_coco_full\"\nBASE_MODEL = \"yolov8n.pt\"\nDEVICE = 'cuda' if torch.cuda.is_available() else 'cpu'\nPATIENCE = 20\n\nINPUT_DATASET_ROOT = \"/kaggle/input/coco-train/coco\"\nDATASET_ROOT = \"/kaggle/working/dataset\"\nTRAINING_ROOT = \"/kaggle/working/training\"\n\nPATHS = {\n    'input_root': INPUT_DATASET_ROOT,\n    'dataset_root': DATASET_ROOT,\n    'training_root': TRAINING_ROOT,\n    'train_images': os.path.join(INPUT_DATASET_ROOT, \"train\"),\n    'val_images': os.path.join(INPUT_DATASET_ROOT, \"val\"),\n    'train_annotations': os.path.join(INPUT_DATASET_ROOT, \"annotations\", \"instances_train.json\"),\n    'val_annotations': os.path.join(INPUT_DATASET_ROOT, \"annotations\", \"instances_val.json\"),\n    'yaml_file': os.path.join(DATASET_ROOT, \"yolo_main.yaml\"),\n    'trained_model': os.path.join(TRAINING_ROOT, PROJECT_NAME, \"weights\", \"best.pt\"),\n}\n\nprint(\"The configuration is set:\")\nprint(f\"  - EPOCHS: {EPOCHS}\")\nprint(f\"  - BATCH_SIZE: {BATCH_SIZE}\")\nprint(f\"  - IMAGE_SIZE: {IMAGE_SIZE}\")\nprint(f\"  - DEVICE: {DEVICE}\")\nprint(f\"  - BASE_MODEL: {BASE_MODEL}\")",
   "metadata": {
    "trusted": true,
    "execution": {
     "iopub.status.busy": "2025-07-16T12:48:05.743902Z",
     "iopub.execute_input": "2025-07-16T12:48:05.744231Z",
     "iopub.status.idle": "2025-07-16T12:48:05.819628Z",
     "shell.execute_reply.started": "2025-07-16T12:48:05.744213Z",
     "shell.execute_reply": "2025-07-16T12:48:05.818720Z"
    }
   },
   "outputs": [
    {
     "name": "stdout",
     "text": "The configuration is set:\n  - EPOCHS: 50\n  - BATCH_SIZE: 128\n  - IMAGE_SIZE: 512\n  - DEVICE: cuda\n  - BASE_MODEL: yolov8n.pt\n",
     "output_type": "stream"
    }
   ],
   "execution_count": 5
  },
  {
   "cell_type": "code",
   "source": "random.seed(SEED)\nnp.random.seed(SEED)\ntorch.manual_seed(SEED)\ntorch.cuda.manual_seed_all(SEED)\n\nultralytics.checks()",
   "metadata": {
    "trusted": true,
    "execution": {
     "iopub.status.busy": "2025-07-16T12:48:05.820495Z",
     "iopub.execute_input": "2025-07-16T12:48:05.820723Z",
     "iopub.status.idle": "2025-07-16T12:48:05.864838Z",
     "shell.execute_reply.started": "2025-07-16T12:48:05.820696Z",
     "shell.execute_reply": "2025-07-16T12:48:05.864329Z"
    }
   },
   "outputs": [
    {
     "name": "stdout",
     "text": "Ultralytics 8.3.167 🚀 Python-3.11.11 torch-2.6.0+cu124 CUDA:0 (Tesla P100-PCIE-16GB, 16269MiB)\nSetup complete ✅ (4 CPUs, 31.4 GB RAM, 6411.3/8062.4 GB disk)\n",
     "output_type": "stream"
    }
   ],
   "execution_count": 6
  },
  {
   "cell_type": "code",
   "source": "convert_coco(\n    labels_dir = os.path.join(PATHS['input_root'], \"annotations\"),\n    save_dir = PATHS['dataset_root'],\n    use_segments = False,\n    use_keypoints = False,\n    cls91to80 = False,\n    lvis = False,\n)",
   "metadata": {
    "trusted": true,
    "execution": {
     "iopub.status.busy": "2025-07-16T12:48:05.865530Z",
     "iopub.execute_input": "2025-07-16T12:48:05.865767Z",
     "iopub.status.idle": "2025-07-16T12:48:13.059131Z",
     "shell.execute_reply.started": "2025-07-16T12:48:05.865743Z",
     "shell.execute_reply": "2025-07-16T12:48:13.058368Z"
    }
   },
   "outputs": [
    {
     "name": "stderr",
     "text": "Annotations /kaggle/input/coco-train/coco/annotations/instances_train.json: 100%|██████████| 19500/19500 [00:02<00:00, 6872.11it/s]\nAnnotations /kaggle/input/coco-train/coco/annotations/instances_val.json: 100%|██████████| 5789/5789 [00:00<00:00, 6883.61it/s]",
     "output_type": "stream"
    },
    {
     "name": "stdout",
     "text": "COCO data converted successfully.\nResults saved to /kaggle/working/dataset\n",
     "output_type": "stream"
    },
    {
     "name": "stderr",
     "text": "\n",
     "output_type": "stream"
    }
   ],
   "execution_count": 7
  },
  {
   "cell_type": "code",
   "source": "print(\"Loading COCO ...\")\n\ntrain_coco = COCO(PATHS['train_annotations'])\nval_coco = COCO(PATHS['val_annotations'])",
   "metadata": {
    "trusted": true,
    "execution": {
     "iopub.status.busy": "2025-07-16T12:48:13.060012Z",
     "iopub.execute_input": "2025-07-16T12:48:13.060317Z",
     "iopub.status.idle": "2025-07-16T12:48:15.715043Z",
     "shell.execute_reply.started": "2025-07-16T12:48:13.060291Z",
     "shell.execute_reply": "2025-07-16T12:48:15.714363Z"
    }
   },
   "outputs": [
    {
     "name": "stdout",
     "text": "Loading COCO ...\nloading annotations into memory...\nDone (t=1.87s)\ncreating index...\nindex created!\nloading annotations into memory...\nDone (t=0.68s)\ncreating index...\nindex created!\n",
     "output_type": "stream"
    }
   ],
   "execution_count": 8
  },
  {
   "cell_type": "code",
   "source": "# Getting all categories\ntrain_categories = train_coco.loadCats(train_coco.getCatIds())\nval_categories = val_coco.loadCats(val_coco.getCatIds())\n\nall_categories = {}\nfor cat in train_categories + val_categories:\n    all_categories[cat['id']] = cat['name']\n\nprint(f\"Found {len(all_categories)}\\n{all_categories}\")\n\nyaml_categories = {}\nfor key, value in all_categories.items():\n    yaml_categories[key - 1] = value\nprint(f\"Categories for YOLO {yaml_categories}\")",
   "metadata": {
    "trusted": true,
    "execution": {
     "iopub.status.busy": "2025-07-16T12:48:15.715797Z",
     "iopub.execute_input": "2025-07-16T12:48:15.716012Z",
     "iopub.status.idle": "2025-07-16T12:48:15.721834Z",
     "shell.execute_reply.started": "2025-07-16T12:48:15.715993Z",
     "shell.execute_reply": "2025-07-16T12:48:15.721048Z"
    }
   },
   "outputs": [
    {
     "name": "stdout",
     "text": "Found 3\n{1: 'person', 2: 'pet', 3: 'car'}\nCategories for YOLO {0: 'person', 1: 'pet', 2: 'car'}\n",
     "output_type": "stream"
    }
   ],
   "execution_count": 9
  },
  {
   "cell_type": "code",
   "source": "def get_image_filenames_from_coco(coco_obj):\n    \"\"\"Get a list of file names from a COCO object\"\"\"\n    image_ids = coco_obj.getImgIds()\n    filenames = []\n    for img_id in image_ids:\n        img_info = coco_obj.loadImgs(img_id)[0]\n        filename = os.path.splitext(img_info['file_name'])[0]\n        filenames.append(filename)\n    return filenames\n\n# Getting lists of files\ntrain_files = get_image_filenames_from_coco(train_coco)\nval_files = get_image_filenames_from_coco(val_coco)\n\nprint(f\"Dataset statistics:\")\nprint(f\"  - Train images: {len(train_files)}\")\nprint(f\"  - Val images: {len(val_files)}\")",
   "metadata": {
    "trusted": true,
    "execution": {
     "iopub.status.busy": "2025-07-16T12:50:54.666411Z",
     "iopub.execute_input": "2025-07-16T12:50:54.666721Z",
     "iopub.status.idle": "2025-07-16T12:50:54.706151Z",
     "shell.execute_reply.started": "2025-07-16T12:50:54.666702Z",
     "shell.execute_reply": "2025-07-16T12:50:54.705568Z"
    }
   },
   "outputs": [
    {
     "name": "stdout",
     "text": "Dataset statistics:\n  - Train images: 22500\n  - Val images: 6789\n",
     "output_type": "stream"
    }
   ],
   "execution_count": 11
  },
  {
   "cell_type": "code",
   "source": "def create_symlinks(image_list, src_dir, dst_dir):\n    \"\"\"Creationg simlinks\"\"\"\n    os.makedirs(dst_dir, exist_ok=True)\n    created_count = 0\n    \n    for filename in image_list:\n        src_path = os.path.join(src_dir, filename + \".jpg\")\n        dst_path = os.path.join(dst_dir, filename + \".jpg\")\n        \n        if not os.path.exists(src_path):\n            continue\n            \n        if not os.path.exists(dst_path):\n            os.symlink(src_path, dst_path)\n            created_count += 1\n    \n    print(f\"Created {created_count} symlinks в {dst_dir}\")\n    return created_count\n\n# Create symlinks for images\nprint(\"Create symbolic links...\")\n\ntrain_symlinks = create_symlinks(train_files, PATHS['train_images'], \n                                os.path.join(PATHS['dataset_root'], 'images', 'train'))\nval_symlinks = create_symlinks(val_files, PATHS['val_images'], \n                              os.path.join(PATHS['dataset_root'], 'images', 'val'))\n\nprint(f\"Symbolic links created:\")\nprint(f\" - Train: {train_symlinks}\")\nprint(f\" - Val: {val_symlinks}\")",
   "metadata": {
    "trusted": true,
    "execution": {
     "iopub.status.busy": "2025-07-16T12:50:56.819019Z",
     "iopub.execute_input": "2025-07-16T12:50:56.819325Z",
     "iopub.status.idle": "2025-07-16T12:51:46.225247Z",
     "shell.execute_reply.started": "2025-07-16T12:50:56.819303Z",
     "shell.execute_reply": "2025-07-16T12:51:46.224579Z"
    }
   },
   "outputs": [
    {
     "name": "stdout",
     "text": "Create symbolic links...\nCreated 22500 symlinks в /kaggle/working/dataset/images/train\nCreated 6789 symlinks в /kaggle/working/dataset/images/val\nSymbolic links created:\n - Train: 22500\n - Val: 6789\n",
     "output_type": "stream"
    }
   ],
   "execution_count": 12
  },
  {
   "cell_type": "code",
   "source": "# Creating a YAML configuration for YOLO\ndata_yaml = {\n    \"path\": PATHS['dataset_root'],\n    \"train\": \"images/train\",\n    \"val\": \"images/val\",\n    \"names\": yaml_categories\n}\n\nwith open(PATHS['yaml_file'], \"w\") as f:\n    yaml.dump(data_yaml, f, default_flow_style=False, allow_unicode=True)\n\nprint(f\"YAML configuration is saved: {PATHS['yaml_file']}\")\nprint(\"YAML configuration:\")\nprint(yaml.dump(data_yaml, default_flow_style=False, allow_unicode=True))",
   "metadata": {
    "trusted": true,
    "execution": {
     "iopub.status.busy": "2025-07-16T12:51:58.482721Z",
     "iopub.execute_input": "2025-07-16T12:51:58.482998Z",
     "iopub.status.idle": "2025-07-16T12:51:58.489747Z",
     "shell.execute_reply.started": "2025-07-16T12:51:58.482978Z",
     "shell.execute_reply": "2025-07-16T12:51:58.488960Z"
    }
   },
   "outputs": [
    {
     "name": "stdout",
     "text": "YAML configuration is saved: /kaggle/working/dataset/yolo_main.yaml\nYAML configuration:\nnames:\n  0: person\n  1: pet\n  2: car\npath: /kaggle/working/dataset\ntrain: images/train\nval: images/val\n\n",
     "output_type": "stream"
    }
   ],
   "execution_count": 13
  },
  {
   "cell_type": "code",
   "source": "print(f\"Model initialization: {BASE_MODEL}\")\nmodel = YOLO(BASE_MODEL)\nprint(f\"Model initialized. Device in use: {DEVICE}\")",
   "metadata": {
    "trusted": true,
    "execution": {
     "iopub.status.busy": "2025-07-16T12:52:01.059088Z",
     "iopub.execute_input": "2025-07-16T12:52:01.059874Z",
     "iopub.status.idle": "2025-07-16T12:52:04.894074Z",
     "shell.execute_reply.started": "2025-07-16T12:52:01.059847Z",
     "shell.execute_reply": "2025-07-16T12:52:04.893275Z"
    }
   },
   "outputs": [
    {
     "name": "stdout",
     "text": "Model initialization: yolov8n.pt\nDownloading https://github.com/ultralytics/assets/releases/download/v8.3.0/yolov8n.pt to 'yolov8n.pt'...\n",
     "output_type": "stream"
    },
    {
     "name": "stderr",
     "text": "100%|██████████| 6.25M/6.25M [00:00<00:00, 18.9MB/s]",
     "output_type": "stream"
    },
    {
     "name": "stdout",
     "text": "Model initialized. Device in use: cuda\n",
     "output_type": "stream"
    },
    {
     "name": "stderr",
     "text": "\n",
     "output_type": "stream"
    }
   ],
   "execution_count": 14
  },
  {
   "cell_type": "code",
   "source": "print(f\"Training configuration:\")\nprint(f\"  - Epochs: {EPOCHS}\")\nprint(f\"  - Batch size: {BATCH_SIZE}\")\nprint(f\"  - Image size: {IMAGE_SIZE}\")\nprint(f\"  - Device: {DEVICE}\")\nprint(f\"  - Patience: {PATIENCE}\")\n\ntraining_results = model.train(\n    data=PATHS['yaml_file'],\n    epochs=EPOCHS,\n    batch=BATCH_SIZE,\n    imgsz=IMAGE_SIZE,\n    project=PATHS['training_root'],\n    name=PROJECT_NAME,\n    device=DEVICE,\n    seed=SEED,\n    patience=PATIENCE,\n)\n\ntrained_model_path = PATHS['trained_model']\nprint(f\"Model saved: {trained_model_path}\")",
   "metadata": {
    "trusted": true,
    "execution": {
     "iopub.status.busy": "2025-07-16T12:52:04.895287Z",
     "iopub.execute_input": "2025-07-16T12:52:04.895612Z",
     "iopub.status.idle": "2025-07-16T15:27:05.894886Z",
     "shell.execute_reply.started": "2025-07-16T12:52:04.895593Z",
     "shell.execute_reply": "2025-07-16T15:27:05.893845Z"
    },
    "collapsed": true,
    "jupyter": {
     "outputs_hidden": true
    }
   },
   "outputs": [
    {
     "name": "stdout",
     "text": "Training configuration:\n  - Epochs: 50\n  - Batch size: 128\n  - Image size: 512\n  - Device: cuda\n  - Patience: 20\nUltralytics 8.3.167 🚀 Python-3.11.11 torch-2.6.0+cu124 CUDA:0 (Tesla P100-PCIE-16GB, 16269MiB)\n\u001B[34m\u001B[1mengine/trainer: \u001B[0magnostic_nms=False, amp=True, augment=False, auto_augment=randaugment, batch=128, bgr=0.0, box=7.5, cache=False, cfg=None, classes=None, close_mosaic=10, cls=0.5, conf=None, copy_paste=0.0, copy_paste_mode=flip, cos_lr=False, cutmix=0.0, data=/kaggle/working/dataset/yolo_main.yaml, degrees=0.0, deterministic=True, device=0, dfl=1.5, dnn=False, dropout=0.0, dynamic=False, embed=None, epochs=50, erasing=0.4, exist_ok=False, fliplr=0.5, flipud=0.0, format=torchscript, fraction=1.0, freeze=None, half=False, hsv_h=0.015, hsv_s=0.7, hsv_v=0.4, imgsz=512, int8=False, iou=0.7, keras=False, kobj=1.0, line_width=None, lr0=0.01, lrf=0.01, mask_ratio=4, max_det=300, mixup=0.0, mode=train, model=yolov8n.pt, momentum=0.937, mosaic=1.0, multi_scale=False, name=yolo8n_pt_512_coco_full, nbs=64, nms=False, opset=None, optimize=False, optimizer=auto, overlap_mask=True, patience=20, perspective=0.0, plots=True, pose=12.0, pretrained=True, profile=False, project=/kaggle/working/training, rect=False, resume=False, retina_masks=False, save=True, save_conf=False, save_crop=False, save_dir=/kaggle/working/training/yolo8n_pt_512_coco_full, save_frames=False, save_json=False, save_period=-1, save_txt=False, scale=0.5, seed=42, shear=0.0, show=False, show_boxes=True, show_conf=True, show_labels=True, simplify=True, single_cls=False, source=None, split=val, stream_buffer=False, task=detect, time=None, tracker=botsort.yaml, translate=0.1, val=True, verbose=True, vid_stride=1, visualize=False, warmup_bias_lr=0.1, warmup_epochs=3.0, warmup_momentum=0.8, weight_decay=0.0005, workers=8, workspace=None\nDownloading https://ultralytics.com/assets/Arial.ttf to '/root/.config/Ultralytics/Arial.ttf'...\n",
     "output_type": "stream"
    },
    {
     "name": "stderr",
     "text": "100%|██████████| 755k/755k [00:00<00:00, 3.80MB/s]\n",
     "output_type": "stream"
    },
    {
     "name": "stdout",
     "text": "Overriding model.yaml nc=80 with nc=3\n\n                   from  n    params  module                                       arguments                     \n  0                  -1  1       464  ultralytics.nn.modules.conv.Conv             [3, 16, 3, 2]                 \n  1                  -1  1      4672  ultralytics.nn.modules.conv.Conv             [16, 32, 3, 2]                \n  2                  -1  1      7360  ultralytics.nn.modules.block.C2f             [32, 32, 1, True]             \n  3                  -1  1     18560  ultralytics.nn.modules.conv.Conv             [32, 64, 3, 2]                \n  4                  -1  2     49664  ultralytics.nn.modules.block.C2f             [64, 64, 2, True]             \n  5                  -1  1     73984  ultralytics.nn.modules.conv.Conv             [64, 128, 3, 2]               \n  6                  -1  2    197632  ultralytics.nn.modules.block.C2f             [128, 128, 2, True]           \n  7                  -1  1    295424  ultralytics.nn.modules.conv.Conv             [128, 256, 3, 2]              \n  8                  -1  1    460288  ultralytics.nn.modules.block.C2f             [256, 256, 1, True]           \n  9                  -1  1    164608  ultralytics.nn.modules.block.SPPF            [256, 256, 5]                 \n 10                  -1  1         0  torch.nn.modules.upsampling.Upsample         [None, 2, 'nearest']          \n 11             [-1, 6]  1         0  ultralytics.nn.modules.conv.Concat           [1]                           \n 12                  -1  1    148224  ultralytics.nn.modules.block.C2f             [384, 128, 1]                 \n 13                  -1  1         0  torch.nn.modules.upsampling.Upsample         [None, 2, 'nearest']          \n 14             [-1, 4]  1         0  ultralytics.nn.modules.conv.Concat           [1]                           \n 15                  -1  1     37248  ultralytics.nn.modules.block.C2f             [192, 64, 1]                  \n 16                  -1  1     36992  ultralytics.nn.modules.conv.Conv             [64, 64, 3, 2]                \n 17            [-1, 12]  1         0  ultralytics.nn.modules.conv.Concat           [1]                           \n 18                  -1  1    123648  ultralytics.nn.modules.block.C2f             [192, 128, 1]                 \n 19                  -1  1    147712  ultralytics.nn.modules.conv.Conv             [128, 128, 3, 2]              \n 20             [-1, 9]  1         0  ultralytics.nn.modules.conv.Concat           [1]                           \n 21                  -1  1    493056  ultralytics.nn.modules.block.C2f             [384, 256, 1]                 \n 22        [15, 18, 21]  1    751897  ultralytics.nn.modules.head.Detect           [3, [64, 128, 256]]           \nModel summary: 129 layers, 3,011,433 parameters, 3,011,417 gradients, 8.2 GFLOPs\n\nTransferred 319/355 items from pretrained weights\nFreezing layer 'model.22.dfl.conv.weight'\n\u001B[34m\u001B[1mAMP: \u001B[0mrunning Automatic Mixed Precision (AMP) checks...\nDownloading https://github.com/ultralytics/assets/releases/download/v8.3.0/yolo11n.pt to 'yolo11n.pt'...\n",
     "output_type": "stream"
    },
    {
     "name": "stderr",
     "text": "100%|██████████| 5.35M/5.35M [00:00<00:00, 16.3MB/s]\n",
     "output_type": "stream"
    },
    {
     "name": "stdout",
     "text": "\u001B[34m\u001B[1mAMP: \u001B[0mchecks passed ✅\n\u001B[34m\u001B[1mtrain: \u001B[0mFast image access ✅ (ping: 0.3±0.3 ms, read: 47.4±12.1 MB/s, size: 177.2 KB)\n",
     "output_type": "stream"
    },
    {
     "name": "stderr",
     "text": "\u001B[34m\u001B[1mtrain: \u001B[0mScanning /kaggle/working/dataset/labels/train... 19500 images, 3000 backgrounds, 0 corrupt: 100%|██████████| 22500/22500 [00:36<00:00, 615.25it/s]\n",
     "output_type": "stream"
    },
    {
     "name": "stdout",
     "text": "\u001B[34m\u001B[1mtrain: \u001B[0mNew cache created: /kaggle/working/dataset/labels/train.cache\n\u001B[34m\u001B[1malbumentations: \u001B[0mBlur(p=0.01, blur_limit=(3, 7)), MedianBlur(p=0.01, blur_limit=(3, 7)), ToGray(p=0.01, num_output_channels=3, method='weighted_average'), CLAHE(p=0.01, clip_limit=(1.0, 4.0), tile_grid_size=(8, 8))\n\u001B[34m\u001B[1mval: \u001B[0mFast image access ✅ (ping: 0.0±0.0 ms, read: 24.4±15.2 MB/s, size: 137.8 KB)\n",
     "output_type": "stream"
    },
    {
     "name": "stderr",
     "text": "\u001B[34m\u001B[1mval: \u001B[0mScanning /kaggle/working/dataset/labels/val... 5789 images, 1000 backgrounds, 0 corrupt: 100%|██████████| 6789/6789 [00:11<00:00, 609.24it/s]\n",
     "output_type": "stream"
    },
    {
     "name": "stdout",
     "text": "\u001B[34m\u001B[1mval: \u001B[0mNew cache created: /kaggle/working/dataset/labels/val.cache\nPlotting labels to /kaggle/working/training/yolo8n_pt_512_coco_full/labels.jpg... \n\u001B[34m\u001B[1moptimizer:\u001B[0m 'optimizer=auto' found, ignoring 'lr0=0.01' and 'momentum=0.937' and determining best 'optimizer', 'lr0' and 'momentum' automatically... \n\u001B[34m\u001B[1moptimizer:\u001B[0m AdamW(lr=0.001429, momentum=0.9) with parameter groups 57 weight(decay=0.0), 64 weight(decay=0.001), 63 bias(decay=0.0)\nImage sizes 512 train, 512 val\nUsing 4 dataloader workers\nLogging results to \u001B[1m/kaggle/working/training/yolo8n_pt_512_coco_full\u001B[0m\nStarting training for 50 epochs...\n\n      Epoch    GPU_mem   box_loss   cls_loss   dfl_loss  Instances       Size\n",
     "output_type": "stream"
    },
    {
     "name": "stderr",
     "text": "       1/50      11.3G      1.246        1.7      1.182        819        512: 100%|██████████| 176/176 [02:32<00:00,  1.16it/s]\n                 Class     Images  Instances      Box(P          R      mAP50  mAP50-95): 100%|██████████| 27/27 [00:35<00:00,  1.32s/it]\n",
     "output_type": "stream"
    },
    {
     "name": "stdout",
     "text": "                   all       6789      27484      0.661      0.494      0.537       0.33\n\n      Epoch    GPU_mem   box_loss   cls_loss   dfl_loss  Instances       Size\n",
     "output_type": "stream"
    },
    {
     "name": "stderr",
     "text": "       2/50      10.6G      1.348      1.406      1.249        722        512: 100%|██████████| 176/176 [02:30<00:00,  1.17it/s]\n                 Class     Images  Instances      Box(P          R      mAP50  mAP50-95): 100%|██████████| 27/27 [00:32<00:00,  1.21s/it]\n",
     "output_type": "stream"
    },
    {
     "name": "stdout",
     "text": "                   all       6789      27484      0.462      0.334      0.332      0.179\n\n      Epoch    GPU_mem   box_loss   cls_loss   dfl_loss  Instances       Size\n",
     "output_type": "stream"
    },
    {
     "name": "stderr",
     "text": "       3/50      10.8G      1.407      1.415      1.296        748        512: 100%|██████████| 176/176 [02:30<00:00,  1.17it/s]\n                 Class     Images  Instances      Box(P          R      mAP50  mAP50-95): 100%|██████████| 27/27 [00:31<00:00,  1.18s/it]\n",
     "output_type": "stream"
    },
    {
     "name": "stdout",
     "text": "                   all       6789      27484      0.553      0.405      0.403      0.223\n\n      Epoch    GPU_mem   box_loss   cls_loss   dfl_loss  Instances       Size\n",
     "output_type": "stream"
    },
    {
     "name": "stderr",
     "text": "       4/50      10.7G      1.408      1.395      1.305        633        512: 100%|██████████| 176/176 [02:31<00:00,  1.17it/s]\n                 Class     Images  Instances      Box(P          R      mAP50  mAP50-95): 100%|██████████| 27/27 [00:31<00:00,  1.18s/it]\n",
     "output_type": "stream"
    },
    {
     "name": "stdout",
     "text": "                   all       6789      27484      0.603      0.444      0.456      0.265\n\n      Epoch    GPU_mem   box_loss   cls_loss   dfl_loss  Instances       Size\n",
     "output_type": "stream"
    },
    {
     "name": "stderr",
     "text": "       5/50      11.4G      1.385      1.343       1.29        811        512: 100%|██████████| 176/176 [02:30<00:00,  1.17it/s]\n                 Class     Images  Instances      Box(P          R      mAP50  mAP50-95): 100%|██████████| 27/27 [00:31<00:00,  1.18s/it]\n",
     "output_type": "stream"
    },
    {
     "name": "stdout",
     "text": "                   all       6789      27484      0.643      0.487      0.521      0.309\n\n      Epoch    GPU_mem   box_loss   cls_loss   dfl_loss  Instances       Size\n",
     "output_type": "stream"
    },
    {
     "name": "stderr",
     "text": "       6/50      10.8G      1.359      1.295      1.272        746        512: 100%|██████████| 176/176 [02:30<00:00,  1.17it/s]\n                 Class     Images  Instances      Box(P          R      mAP50  mAP50-95): 100%|██████████| 27/27 [00:32<00:00,  1.19s/it]\n",
     "output_type": "stream"
    },
    {
     "name": "stdout",
     "text": "                   all       6789      27484      0.647      0.489      0.531      0.322\n\n      Epoch    GPU_mem   box_loss   cls_loss   dfl_loss  Instances       Size\n",
     "output_type": "stream"
    },
    {
     "name": "stderr",
     "text": "       7/50      10.6G      1.334      1.258      1.261        668        512: 100%|██████████| 176/176 [02:30<00:00,  1.17it/s]\n                 Class     Images  Instances      Box(P          R      mAP50  mAP50-95): 100%|██████████| 27/27 [00:31<00:00,  1.17s/it]\n",
     "output_type": "stream"
    },
    {
     "name": "stdout",
     "text": "                   all       6789      27484      0.609      0.456      0.501      0.307\n\n      Epoch    GPU_mem   box_loss   cls_loss   dfl_loss  Instances       Size\n",
     "output_type": "stream"
    },
    {
     "name": "stderr",
     "text": "       8/50      10.8G       1.32      1.235      1.251        753        512: 100%|██████████| 176/176 [02:30<00:00,  1.17it/s]\n                 Class     Images  Instances      Box(P          R      mAP50  mAP50-95): 100%|██████████| 27/27 [00:33<00:00,  1.23s/it]\n",
     "output_type": "stream"
    },
    {
     "name": "stdout",
     "text": "                   all       6789      27484      0.658       0.52      0.558      0.344\n\n      Epoch    GPU_mem   box_loss   cls_loss   dfl_loss  Instances       Size\n",
     "output_type": "stream"
    },
    {
     "name": "stderr",
     "text": "       9/50      10.8G      1.309      1.213      1.242        756        512: 100%|██████████| 176/176 [02:31<00:00,  1.16it/s]\n                 Class     Images  Instances      Box(P          R      mAP50  mAP50-95): 100%|██████████| 27/27 [00:32<00:00,  1.19s/it]\n",
     "output_type": "stream"
    },
    {
     "name": "stdout",
     "text": "                   all       6789      27484      0.686       0.52      0.568      0.364\n\n      Epoch    GPU_mem   box_loss   cls_loss   dfl_loss  Instances       Size\n",
     "output_type": "stream"
    },
    {
     "name": "stderr",
     "text": "      10/50      10.9G      1.293      1.188      1.234        679        512: 100%|██████████| 176/176 [02:31<00:00,  1.16it/s]\n                 Class     Images  Instances      Box(P          R      mAP50  mAP50-95): 100%|██████████| 27/27 [00:31<00:00,  1.16s/it]\n",
     "output_type": "stream"
    },
    {
     "name": "stdout",
     "text": "                   all       6789      27484      0.685      0.541      0.588      0.372\n\n      Epoch    GPU_mem   box_loss   cls_loss   dfl_loss  Instances       Size\n",
     "output_type": "stream"
    },
    {
     "name": "stderr",
     "text": "      11/50      10.4G      1.282       1.17       1.23        781        512: 100%|██████████| 176/176 [02:30<00:00,  1.17it/s]\n                 Class     Images  Instances      Box(P          R      mAP50  mAP50-95): 100%|██████████| 27/27 [00:31<00:00,  1.16s/it]\n",
     "output_type": "stream"
    },
    {
     "name": "stdout",
     "text": "                   all       6789      27484      0.682       0.52      0.575      0.367\n\n      Epoch    GPU_mem   box_loss   cls_loss   dfl_loss  Instances       Size\n",
     "output_type": "stream"
    },
    {
     "name": "stderr",
     "text": "      12/50      10.8G      1.273      1.161      1.224        733        512: 100%|██████████| 176/176 [02:30<00:00,  1.17it/s]\n                 Class     Images  Instances      Box(P          R      mAP50  mAP50-95): 100%|██████████| 27/27 [00:31<00:00,  1.17s/it]\n",
     "output_type": "stream"
    },
    {
     "name": "stdout",
     "text": "                   all       6789      27484      0.695      0.541      0.591      0.381\n\n      Epoch    GPU_mem   box_loss   cls_loss   dfl_loss  Instances       Size\n",
     "output_type": "stream"
    },
    {
     "name": "stderr",
     "text": "      13/50      10.7G      1.255      1.133      1.211        684        512: 100%|██████████| 176/176 [02:30<00:00,  1.17it/s]\n                 Class     Images  Instances      Box(P          R      mAP50  mAP50-95): 100%|██████████| 27/27 [00:31<00:00,  1.17s/it]\n",
     "output_type": "stream"
    },
    {
     "name": "stdout",
     "text": "                   all       6789      27484      0.704      0.554        0.6      0.389\n\n      Epoch    GPU_mem   box_loss   cls_loss   dfl_loss  Instances       Size\n",
     "output_type": "stream"
    },
    {
     "name": "stderr",
     "text": "      14/50      10.7G      1.254      1.124       1.21        621        512: 100%|██████████| 176/176 [02:30<00:00,  1.17it/s]\n                 Class     Images  Instances      Box(P          R      mAP50  mAP50-95): 100%|██████████| 27/27 [00:31<00:00,  1.17s/it]\n",
     "output_type": "stream"
    },
    {
     "name": "stdout",
     "text": "                   all       6789      27484      0.697      0.552      0.598      0.388\n\n      Epoch    GPU_mem   box_loss   cls_loss   dfl_loss  Instances       Size\n",
     "output_type": "stream"
    },
    {
     "name": "stderr",
     "text": "      15/50      10.9G      1.246      1.112      1.206        758        512: 100%|██████████| 176/176 [02:30<00:00,  1.17it/s]\n                 Class     Images  Instances      Box(P          R      mAP50  mAP50-95): 100%|██████████| 27/27 [00:30<00:00,  1.14s/it]\n",
     "output_type": "stream"
    },
    {
     "name": "stdout",
     "text": "                   all       6789      27484      0.705      0.546      0.606      0.396\n\n      Epoch    GPU_mem   box_loss   cls_loss   dfl_loss  Instances       Size\n",
     "output_type": "stream"
    },
    {
     "name": "stderr",
     "text": "      16/50      10.8G      1.243      1.105      1.204        677        512: 100%|██████████| 176/176 [02:31<00:00,  1.16it/s]\n                 Class     Images  Instances      Box(P          R      mAP50  mAP50-95): 100%|██████████| 27/27 [00:33<00:00,  1.24s/it]\n",
     "output_type": "stream"
    },
    {
     "name": "stdout",
     "text": "                   all       6789      27484       0.72      0.561       0.62      0.408\n\n      Epoch    GPU_mem   box_loss   cls_loss   dfl_loss  Instances       Size\n",
     "output_type": "stream"
    },
    {
     "name": "stderr",
     "text": "      17/50      10.7G       1.23      1.089      1.198        796        512: 100%|██████████| 176/176 [02:30<00:00,  1.17it/s]\n                 Class     Images  Instances      Box(P          R      mAP50  mAP50-95): 100%|██████████| 27/27 [00:31<00:00,  1.15s/it]\n",
     "output_type": "stream"
    },
    {
     "name": "stdout",
     "text": "                   all       6789      27484      0.723      0.572      0.631      0.416\n\n      Epoch    GPU_mem   box_loss   cls_loss   dfl_loss  Instances       Size\n",
     "output_type": "stream"
    },
    {
     "name": "stderr",
     "text": "      18/50      10.7G      1.223      1.078      1.194        706        512: 100%|██████████| 176/176 [02:30<00:00,  1.17it/s]\n                 Class     Images  Instances      Box(P          R      mAP50  mAP50-95): 100%|██████████| 27/27 [00:31<00:00,  1.16s/it]\n",
     "output_type": "stream"
    },
    {
     "name": "stdout",
     "text": "                   all       6789      27484      0.723      0.565      0.621       0.41\n\n      Epoch    GPU_mem   box_loss   cls_loss   dfl_loss  Instances       Size\n",
     "output_type": "stream"
    },
    {
     "name": "stderr",
     "text": "      19/50      10.8G      1.219      1.062      1.186        697        512: 100%|██████████| 176/176 [02:29<00:00,  1.17it/s]\n                 Class     Images  Instances      Box(P          R      mAP50  mAP50-95): 100%|██████████| 27/27 [00:30<00:00,  1.14s/it]\n",
     "output_type": "stream"
    },
    {
     "name": "stdout",
     "text": "                   all       6789      27484      0.734      0.571      0.634      0.419\n\n      Epoch    GPU_mem   box_loss   cls_loss   dfl_loss  Instances       Size\n",
     "output_type": "stream"
    },
    {
     "name": "stderr",
     "text": "      20/50      10.9G      1.212      1.057      1.187        749        512: 100%|██████████| 176/176 [02:29<00:00,  1.17it/s]\n                 Class     Images  Instances      Box(P          R      mAP50  mAP50-95): 100%|██████████| 27/27 [00:31<00:00,  1.16s/it]\n",
     "output_type": "stream"
    },
    {
     "name": "stdout",
     "text": "                   all       6789      27484      0.736      0.587      0.644      0.427\n\n      Epoch    GPU_mem   box_loss   cls_loss   dfl_loss  Instances       Size\n",
     "output_type": "stream"
    },
    {
     "name": "stderr",
     "text": "      21/50      10.8G      1.208      1.051      1.179        708        512: 100%|██████████| 176/176 [02:29<00:00,  1.17it/s]\n                 Class     Images  Instances      Box(P          R      mAP50  mAP50-95): 100%|██████████| 27/27 [00:30<00:00,  1.14s/it]\n",
     "output_type": "stream"
    },
    {
     "name": "stdout",
     "text": "                   all       6789      27484       0.74      0.571      0.638      0.427\n\n      Epoch    GPU_mem   box_loss   cls_loss   dfl_loss  Instances       Size\n",
     "output_type": "stream"
    },
    {
     "name": "stderr",
     "text": "      22/50        11G      1.201      1.044      1.178        670        512: 100%|██████████| 176/176 [02:30<00:00,  1.17it/s]\n                 Class     Images  Instances      Box(P          R      mAP50  mAP50-95): 100%|██████████| 27/27 [00:30<00:00,  1.13s/it]\n",
     "output_type": "stream"
    },
    {
     "name": "stdout",
     "text": "                   all       6789      27484      0.739       0.59      0.648      0.436\n\n      Epoch    GPU_mem   box_loss   cls_loss   dfl_loss  Instances       Size\n",
     "output_type": "stream"
    },
    {
     "name": "stderr",
     "text": "      23/50      10.8G      1.197      1.036      1.176        598        512: 100%|██████████| 176/176 [02:30<00:00,  1.17it/s]\n                 Class     Images  Instances      Box(P          R      mAP50  mAP50-95): 100%|██████████| 27/27 [00:31<00:00,  1.16s/it]\n",
     "output_type": "stream"
    },
    {
     "name": "stdout",
     "text": "                   all       6789      27484       0.74      0.584      0.644      0.431\n\n      Epoch    GPU_mem   box_loss   cls_loss   dfl_loss  Instances       Size\n",
     "output_type": "stream"
    },
    {
     "name": "stderr",
     "text": "      24/50      10.6G      1.193      1.023      1.173        748        512: 100%|██████████| 176/176 [02:30<00:00,  1.17it/s]\n                 Class     Images  Instances      Box(P          R      mAP50  mAP50-95): 100%|██████████| 27/27 [00:31<00:00,  1.17s/it]\n",
     "output_type": "stream"
    },
    {
     "name": "stdout",
     "text": "                   all       6789      27484      0.743      0.597      0.653      0.442\n\n      Epoch    GPU_mem   box_loss   cls_loss   dfl_loss  Instances       Size\n",
     "output_type": "stream"
    },
    {
     "name": "stderr",
     "text": "      25/50      10.8G      1.184      1.017      1.172        726        512: 100%|██████████| 176/176 [02:30<00:00,  1.17it/s]\n                 Class     Images  Instances      Box(P          R      mAP50  mAP50-95): 100%|██████████| 27/27 [00:31<00:00,  1.16s/it]\n",
     "output_type": "stream"
    },
    {
     "name": "stdout",
     "text": "                   all       6789      27484      0.753        0.6       0.66      0.447\n\n      Epoch    GPU_mem   box_loss   cls_loss   dfl_loss  Instances       Size\n",
     "output_type": "stream"
    },
    {
     "name": "stderr",
     "text": "      26/50      10.6G      1.184       1.02      1.168        726        512: 100%|██████████| 176/176 [02:30<00:00,  1.17it/s]\n                 Class     Images  Instances      Box(P          R      mAP50  mAP50-95): 100%|██████████| 27/27 [00:31<00:00,  1.15s/it]\n",
     "output_type": "stream"
    },
    {
     "name": "stdout",
     "text": "                   all       6789      27484      0.747        0.6      0.658      0.444\n\n      Epoch    GPU_mem   box_loss   cls_loss   dfl_loss  Instances       Size\n",
     "output_type": "stream"
    },
    {
     "name": "stderr",
     "text": "      27/50      10.4G      1.173      1.001      1.162        942        512: 100%|██████████| 176/176 [02:30<00:00,  1.17it/s]\n                 Class     Images  Instances      Box(P          R      mAP50  mAP50-95): 100%|██████████| 27/27 [00:31<00:00,  1.16s/it]\n",
     "output_type": "stream"
    },
    {
     "name": "stdout",
     "text": "                   all       6789      27484      0.739      0.611      0.661      0.448\n\n      Epoch    GPU_mem   box_loss   cls_loss   dfl_loss  Instances       Size\n",
     "output_type": "stream"
    },
    {
     "name": "stderr",
     "text": "      28/50        11G      1.173     0.9987      1.163        675        512: 100%|██████████| 176/176 [02:30<00:00,  1.17it/s]\n                 Class     Images  Instances      Box(P          R      mAP50  mAP50-95): 100%|██████████| 27/27 [00:31<00:00,  1.16s/it]\n",
     "output_type": "stream"
    },
    {
     "name": "stdout",
     "text": "                   all       6789      27484      0.753      0.602      0.661      0.449\n\n      Epoch    GPU_mem   box_loss   cls_loss   dfl_loss  Instances       Size\n",
     "output_type": "stream"
    },
    {
     "name": "stderr",
     "text": "      29/50      10.8G      1.169     0.9918      1.157        682        512: 100%|██████████| 176/176 [02:30<00:00,  1.17it/s]\n                 Class     Images  Instances      Box(P          R      mAP50  mAP50-95): 100%|██████████| 27/27 [00:31<00:00,  1.18s/it]\n",
     "output_type": "stream"
    },
    {
     "name": "stdout",
     "text": "                   all       6789      27484      0.748      0.607      0.662      0.452\n\n      Epoch    GPU_mem   box_loss   cls_loss   dfl_loss  Instances       Size\n",
     "output_type": "stream"
    },
    {
     "name": "stderr",
     "text": "      30/50      10.8G      1.162     0.9817      1.156        683        512: 100%|██████████| 176/176 [02:30<00:00,  1.17it/s]\n                 Class     Images  Instances      Box(P          R      mAP50  mAP50-95): 100%|██████████| 27/27 [00:31<00:00,  1.15s/it]\n",
     "output_type": "stream"
    },
    {
     "name": "stdout",
     "text": "                   all       6789      27484      0.753      0.614       0.67      0.458\n\n      Epoch    GPU_mem   box_loss   cls_loss   dfl_loss  Instances       Size\n",
     "output_type": "stream"
    },
    {
     "name": "stderr",
     "text": "      31/50      10.7G      1.157     0.9712      1.153        763        512: 100%|██████████| 176/176 [02:30<00:00,  1.17it/s]\n                 Class     Images  Instances      Box(P          R      mAP50  mAP50-95): 100%|██████████| 27/27 [00:30<00:00,  1.14s/it]\n",
     "output_type": "stream"
    },
    {
     "name": "stdout",
     "text": "                   all       6789      27484      0.762      0.615      0.672      0.458\n\n      Epoch    GPU_mem   box_loss   cls_loss   dfl_loss  Instances       Size\n",
     "output_type": "stream"
    },
    {
     "name": "stderr",
     "text": "      32/50      10.8G      1.157     0.9697      1.151        736        512: 100%|██████████| 176/176 [02:30<00:00,  1.17it/s]\n                 Class     Images  Instances      Box(P          R      mAP50  mAP50-95): 100%|██████████| 27/27 [00:31<00:00,  1.15s/it]\n",
     "output_type": "stream"
    },
    {
     "name": "stdout",
     "text": "                   all       6789      27484      0.758       0.62      0.675      0.463\n\n      Epoch    GPU_mem   box_loss   cls_loss   dfl_loss  Instances       Size\n",
     "output_type": "stream"
    },
    {
     "name": "stderr",
     "text": "      33/50      10.4G      1.149     0.9605      1.146        781        512: 100%|██████████| 176/176 [02:30<00:00,  1.17it/s]\n                 Class     Images  Instances      Box(P          R      mAP50  mAP50-95): 100%|██████████| 27/27 [00:31<00:00,  1.16s/it]\n",
     "output_type": "stream"
    },
    {
     "name": "stdout",
     "text": "                   all       6789      27484      0.757      0.619      0.678      0.465\n\n      Epoch    GPU_mem   box_loss   cls_loss   dfl_loss  Instances       Size\n",
     "output_type": "stream"
    },
    {
     "name": "stderr",
     "text": "      34/50      10.7G      1.144     0.9534      1.142        677        512: 100%|██████████| 176/176 [02:30<00:00,  1.17it/s]\n                 Class     Images  Instances      Box(P          R      mAP50  mAP50-95): 100%|██████████| 27/27 [00:31<00:00,  1.15s/it]\n",
     "output_type": "stream"
    },
    {
     "name": "stdout",
     "text": "                   all       6789      27484      0.768      0.615      0.678      0.468\n\n      Epoch    GPU_mem   box_loss   cls_loss   dfl_loss  Instances       Size\n",
     "output_type": "stream"
    },
    {
     "name": "stderr",
     "text": "      35/50        11G      1.143     0.9427      1.141        670        512: 100%|██████████| 176/176 [02:30<00:00,  1.17it/s]\n                 Class     Images  Instances      Box(P          R      mAP50  mAP50-95): 100%|██████████| 27/27 [00:30<00:00,  1.14s/it]\n",
     "output_type": "stream"
    },
    {
     "name": "stdout",
     "text": "                   all       6789      27484      0.773       0.62      0.682      0.469\n\n      Epoch    GPU_mem   box_loss   cls_loss   dfl_loss  Instances       Size\n",
     "output_type": "stream"
    },
    {
     "name": "stderr",
     "text": "      36/50      10.6G       1.14     0.9438       1.14        751        512: 100%|██████████| 176/176 [02:29<00:00,  1.17it/s]\n                 Class     Images  Instances      Box(P          R      mAP50  mAP50-95): 100%|██████████| 27/27 [00:31<00:00,  1.15s/it]\n",
     "output_type": "stream"
    },
    {
     "name": "stdout",
     "text": "                   all       6789      27484      0.763      0.628      0.683      0.471\n\n      Epoch    GPU_mem   box_loss   cls_loss   dfl_loss  Instances       Size\n",
     "output_type": "stream"
    },
    {
     "name": "stderr",
     "text": "      37/50      10.6G      1.133     0.9363      1.138        759        512: 100%|██████████| 176/176 [02:30<00:00,  1.17it/s]\n                 Class     Images  Instances      Box(P          R      mAP50  mAP50-95): 100%|██████████| 27/27 [00:31<00:00,  1.15s/it]\n",
     "output_type": "stream"
    },
    {
     "name": "stdout",
     "text": "                   all       6789      27484      0.768      0.624      0.682      0.469\n\n      Epoch    GPU_mem   box_loss   cls_loss   dfl_loss  Instances       Size\n",
     "output_type": "stream"
    },
    {
     "name": "stderr",
     "text": "      38/50      10.7G      1.132     0.9296      1.136        695        512: 100%|██████████| 176/176 [02:29<00:00,  1.18it/s]\n                 Class     Images  Instances      Box(P          R      mAP50  mAP50-95): 100%|██████████| 27/27 [00:30<00:00,  1.14s/it]\n",
     "output_type": "stream"
    },
    {
     "name": "stdout",
     "text": "                   all       6789      27484      0.768      0.626      0.684      0.472\n\n      Epoch    GPU_mem   box_loss   cls_loss   dfl_loss  Instances       Size\n",
     "output_type": "stream"
    },
    {
     "name": "stderr",
     "text": "      39/50        11G       1.12     0.9247      1.132        726        512: 100%|██████████| 176/176 [02:30<00:00,  1.17it/s]\n                 Class     Images  Instances      Box(P          R      mAP50  mAP50-95): 100%|██████████| 27/27 [00:30<00:00,  1.14s/it]\n",
     "output_type": "stream"
    },
    {
     "name": "stdout",
     "text": "                   all       6789      27484      0.763      0.633      0.685      0.475\n\n      Epoch    GPU_mem   box_loss   cls_loss   dfl_loss  Instances       Size\n",
     "output_type": "stream"
    },
    {
     "name": "stderr",
     "text": "      40/50      10.9G      1.118     0.9151       1.13        657        512: 100%|██████████| 176/176 [02:30<00:00,  1.17it/s]\n                 Class     Images  Instances      Box(P          R      mAP50  mAP50-95): 100%|██████████| 27/27 [00:31<00:00,  1.16s/it]\n",
     "output_type": "stream"
    },
    {
     "name": "stdout",
     "text": "                   all       6789      27484      0.775      0.629      0.687      0.476\nClosing dataloader mosaic\n\u001B[34m\u001B[1malbumentations: \u001B[0mBlur(p=0.01, blur_limit=(3, 7)), MedianBlur(p=0.01, blur_limit=(3, 7)), ToGray(p=0.01, num_output_channels=3, method='weighted_average'), CLAHE(p=0.01, clip_limit=(1.0, 4.0), tile_grid_size=(8, 8))\n\n      Epoch    GPU_mem   box_loss   cls_loss   dfl_loss  Instances       Size\n",
     "output_type": "stream"
    },
    {
     "name": "stderr",
     "text": "      41/50      10.4G      1.105     0.8475      1.099        375        512: 100%|██████████| 176/176 [02:33<00:00,  1.15it/s]\n                 Class     Images  Instances      Box(P          R      mAP50  mAP50-95): 100%|██████████| 27/27 [00:30<00:00,  1.14s/it]\n",
     "output_type": "stream"
    },
    {
     "name": "stdout",
     "text": "                   all       6789      27484      0.775      0.627      0.686      0.476\n\n      Epoch    GPU_mem   box_loss   cls_loss   dfl_loss  Instances       Size\n",
     "output_type": "stream"
    },
    {
     "name": "stderr",
     "text": "      42/50      10.4G      1.092     0.8259      1.094        469        512: 100%|██████████| 176/176 [02:26<00:00,  1.20it/s]\n                 Class     Images  Instances      Box(P          R      mAP50  mAP50-95): 100%|██████████| 27/27 [00:30<00:00,  1.14s/it]\n",
     "output_type": "stream"
    },
    {
     "name": "stdout",
     "text": "                   all       6789      27484      0.765      0.633      0.686      0.476\n\n      Epoch    GPU_mem   box_loss   cls_loss   dfl_loss  Instances       Size\n",
     "output_type": "stream"
    },
    {
     "name": "stderr",
     "text": "      43/50      10.4G      1.083     0.8126      1.087        346        512: 100%|██████████| 176/176 [02:26<00:00,  1.20it/s]\n                 Class     Images  Instances      Box(P          R      mAP50  mAP50-95): 100%|██████████| 27/27 [00:31<00:00,  1.16s/it]\n",
     "output_type": "stream"
    },
    {
     "name": "stdout",
     "text": "                   all       6789      27484      0.773       0.63      0.687      0.477\n\n      Epoch    GPU_mem   box_loss   cls_loss   dfl_loss  Instances       Size\n",
     "output_type": "stream"
    },
    {
     "name": "stderr",
     "text": "      44/50      10.4G       1.08     0.8027      1.083        386        512: 100%|██████████| 176/176 [02:27<00:00,  1.20it/s]\n                 Class     Images  Instances      Box(P          R      mAP50  mAP50-95): 100%|██████████| 27/27 [00:30<00:00,  1.14s/it]\n",
     "output_type": "stream"
    },
    {
     "name": "stdout",
     "text": "                   all       6789      27484      0.778       0.63      0.689      0.478\n\n      Epoch    GPU_mem   box_loss   cls_loss   dfl_loss  Instances       Size\n",
     "output_type": "stream"
    },
    {
     "name": "stderr",
     "text": "      45/50      10.4G      1.068     0.7922      1.079        328        512: 100%|██████████| 176/176 [02:26<00:00,  1.20it/s]\n                 Class     Images  Instances      Box(P          R      mAP50  mAP50-95): 100%|██████████| 27/27 [00:31<00:00,  1.16s/it]\n",
     "output_type": "stream"
    },
    {
     "name": "stdout",
     "text": "                   all       6789      27484      0.776      0.629      0.689       0.48\n\n      Epoch    GPU_mem   box_loss   cls_loss   dfl_loss  Instances       Size\n",
     "output_type": "stream"
    },
    {
     "name": "stderr",
     "text": "      46/50      10.4G      1.064     0.7849      1.077        368        512: 100%|██████████| 176/176 [02:26<00:00,  1.20it/s]\n                 Class     Images  Instances      Box(P          R      mAP50  mAP50-95): 100%|██████████| 27/27 [00:30<00:00,  1.15s/it]\n",
     "output_type": "stream"
    },
    {
     "name": "stdout",
     "text": "                   all       6789      27484      0.774      0.635      0.692      0.482\n\n      Epoch    GPU_mem   box_loss   cls_loss   dfl_loss  Instances       Size\n",
     "output_type": "stream"
    },
    {
     "name": "stderr",
     "text": "      47/50      10.4G      1.058     0.7801      1.075        368        512: 100%|██████████| 176/176 [02:27<00:00,  1.19it/s]\n                 Class     Images  Instances      Box(P          R      mAP50  mAP50-95): 100%|██████████| 27/27 [00:30<00:00,  1.13s/it]\n",
     "output_type": "stream"
    },
    {
     "name": "stdout",
     "text": "                   all       6789      27484      0.776      0.635      0.691      0.482\n\n      Epoch    GPU_mem   box_loss   cls_loss   dfl_loss  Instances       Size\n",
     "output_type": "stream"
    },
    {
     "name": "stderr",
     "text": "      48/50      10.4G      1.055     0.7727      1.072        325        512: 100%|██████████| 176/176 [02:26<00:00,  1.20it/s]\n                 Class     Images  Instances      Box(P          R      mAP50  mAP50-95): 100%|██████████| 27/27 [00:30<00:00,  1.14s/it]\n",
     "output_type": "stream"
    },
    {
     "name": "stdout",
     "text": "                   all       6789      27484      0.778      0.638      0.693      0.483\n\n      Epoch    GPU_mem   box_loss   cls_loss   dfl_loss  Instances       Size\n",
     "output_type": "stream"
    },
    {
     "name": "stderr",
     "text": "      49/50      10.4G      1.049     0.7652      1.069        429        512: 100%|██████████| 176/176 [02:26<00:00,  1.20it/s]\n                 Class     Images  Instances      Box(P          R      mAP50  mAP50-95): 100%|██████████| 27/27 [00:31<00:00,  1.16s/it]\n",
     "output_type": "stream"
    },
    {
     "name": "stdout",
     "text": "                   all       6789      27484      0.779      0.634      0.693      0.484\n\n      Epoch    GPU_mem   box_loss   cls_loss   dfl_loss  Instances       Size\n",
     "output_type": "stream"
    },
    {
     "name": "stderr",
     "text": "      50/50      10.6G      1.047      0.761      1.068        388        512: 100%|██████████| 176/176 [02:26<00:00,  1.20it/s]\n                 Class     Images  Instances      Box(P          R      mAP50  mAP50-95): 100%|██████████| 27/27 [00:31<00:00,  1.15s/it]\n",
     "output_type": "stream"
    },
    {
     "name": "stdout",
     "text": "                   all       6789      27484      0.782      0.633      0.694      0.484\n\n50 epochs completed in 2.545 hours.\nOptimizer stripped from /kaggle/working/training/yolo8n_pt_512_coco_full/weights/last.pt, 6.2MB\nOptimizer stripped from /kaggle/working/training/yolo8n_pt_512_coco_full/weights/best.pt, 6.2MB\n\nValidating /kaggle/working/training/yolo8n_pt_512_coco_full/weights/best.pt...\nUltralytics 8.3.167 🚀 Python-3.11.11 torch-2.6.0+cu124 CUDA:0 (Tesla P100-PCIE-16GB, 16269MiB)\nModel summary (fused): 72 layers, 3,006,233 parameters, 0 gradients, 8.1 GFLOPs\n",
     "output_type": "stream"
    },
    {
     "name": "stderr",
     "text": "                 Class     Images  Instances      Box(P          R      mAP50  mAP50-95): 100%|██████████| 27/27 [00:36<00:00,  1.34s/it]\n/usr/local/lib/python3.11/dist-packages/matplotlib/colors.py:721: RuntimeWarning: invalid value encountered in less\n  xa[xa < 0] = -1\n/usr/local/lib/python3.11/dist-packages/matplotlib/colors.py:721: RuntimeWarning: invalid value encountered in less\n  xa[xa < 0] = -1\n",
     "output_type": "stream"
    },
    {
     "name": "stdout",
     "text": "                   all       6789      27484      0.782      0.633      0.694      0.484\n                person       3870      16380      0.805      0.573       0.68      0.443\n                   pet       1804       2238      0.747      0.779      0.748      0.575\n                   car       2455       8866      0.794      0.547      0.653      0.436\nSpeed: 0.1ms preprocess, 1.1ms inference, 0.0ms loss, 1.2ms postprocess per image\nResults saved to \u001B[1m/kaggle/working/training/yolo8n_pt_512_coco_full\u001B[0m\nModel saved: /kaggle/working/training/yolo8n_pt_512_coco_full/weights/best.pt\n",
     "output_type": "stream"
    }
   ],
   "execution_count": 15
  },
  {
   "cell_type": "code",
   "source": "def create_training_readme():\n    \"\"\"Create a comprehensive README for the training results\"\"\"\n    \n    # Get training results path\n    results_path = os.path.join(PATHS['training_root'], PROJECT_NAME)\n    readme_path = os.path.join(results_path, 'README.md')\n    \n    # Read results if available\n    results_csv = os.path.join(results_path, 'results.csv')\n    \n    readme_content = f\"\"\"# YOLO Training Results - {PROJECT_NAME}\n## Training Configuration\n**Model:** {BASE_MODEL}  \n**Project:** {PROJECT_NAME}  \n**Date:** {datetime.now().strftime('%Y-%m-%d %H:%M:%S')}\n### Hyperparameters\n- **Epochs:** {EPOCHS}\n- **Batch Size:** {BATCH_SIZE}  \n- **Image Size:** {IMAGE_SIZE}\n- **Device:** {DEVICE}\n- **Patience:** {PATIENCE}\n- **Seed:** {SEED}\n### Dataset Information\n- **Dataset Source:** `{INPUT_DATASET_ROOT}`\n- **Training Images:** {len(train_files)}\n- **Validation Images:** {len(val_files)}\n- **Total Images:** {len(train_files) + len(val_files)}\n### Class Configuration\n**Class Names:**\n```yaml\n{yaml.dump(yaml_categories, default_flow_style=False, allow_unicode=True)}```\n## Training Results\n\"\"\"\n    \n    # Add training metrics if results.csv exists\n    if os.path.exists(results_csv):\n        try:\n            df = pd.read_csv(results_csv)\n            last_epoch = df.iloc[-1]\n            \n            readme_content += f\"\"\"### Final Metrics (Epoch {int(last_epoch['epoch'])})\n- **Train Box Loss:** {last_epoch.get('train/box_loss', 'N/A'):.4f}\n- **Train Class Loss:** {last_epoch.get('train/cls_loss', 'N/A'):.4f}\n- **Train DFL Loss:** {last_epoch.get('train/dfl_loss', 'N/A'):.4f}\n- **Validation mAP50:** {last_epoch.get('metrics/mAP50(B)', 'N/A'):.4f}\n- **Validation mAP50-95:** {last_epoch.get('metrics/mAP50-95(B)', 'N/A'):.4f}\n- **Validation Precision:** {last_epoch.get('metrics/precision(B)', 'N/A'):.4f}\n- **Validation Recall:** {last_epoch.get('metrics/recall(B)', 'N/A'):.4f}\n### Training Progress\n\"\"\"\n            \n        except Exception as e:\n            readme_content += f\"*Error loading training results: {str(e)}*\\n\\n\"\n    \n    # Add file structure and environment info\n    readme_content += f\"\"\"## Project Structure\n\n## Training Environment\n- **Python Version:** 3.11.11\n- **PyTorch Version:** {torch.__version__}\n- **Ultralytics Version:** {ultralytics.__version__}\n- **CUDA Available:** {torch.cuda.is_available()}\n---\n*Generated automatically on {datetime.now().strftime('%Y-%m-%d %H:%M:%S')}*\n\"\"\"\n    \n    # Write README\n    with open(readme_path, 'w', encoding='utf-8') as f:\n        f.write(readme_content)\n    \n    print(f\"✅ README created: {readme_path}\")\n    \n    # Also create a summary JSON\n    summary_data = {\n        \"project_name\": PROJECT_NAME,\n        \"model\": BASE_MODEL,\n        \"epochs\": EPOCHS,\n        \"batch_size\": BATCH_SIZE,\n        \"image_size\": IMAGE_SIZE,\n        \"device\": DEVICE,\n        \"train_images\": len(train_files),\n        \"val_images\": len(val_files),\n        \"timestamp\": datetime.now().isoformat()\n    }\n    \n    summary_path = os.path.join(results_path, 'training_summary.json')\n    with open(summary_path, 'w') as f:\n        json.dump(summary_data, f, indent=2)\n    \n    print(f\"✅ Summary JSON created: {summary_path}\")\n    return readme_path\n\n\ncreate_training_readme()",
   "metadata": {
    "trusted": true,
    "execution": {
     "iopub.status.busy": "2025-07-16T15:28:49.808857Z",
     "iopub.execute_input": "2025-07-16T15:28:49.809507Z",
     "iopub.status.idle": "2025-07-16T15:28:49.825637Z",
     "shell.execute_reply.started": "2025-07-16T15:28:49.809483Z",
     "shell.execute_reply": "2025-07-16T15:28:49.824861Z"
    }
   },
   "outputs": [
    {
     "name": "stdout",
     "text": "✅ README created: /kaggle/working/training/yolo8n_pt_512_coco_full/README.md\n✅ Summary JSON created: /kaggle/working/training/yolo8n_pt_512_coco_full/training_summary.json\n",
     "output_type": "stream"
    },
    {
     "execution_count": 17,
     "output_type": "execute_result",
     "data": {
      "text/plain": "'/kaggle/working/training/yolo8n_pt_512_coco_full/README.md'"
     },
     "metadata": {}
    }
   ],
   "execution_count": 17
  },
  {
   "cell_type": "code",
   "source": "from IPython.display import display, HTML\nimport os\n\nos.chdir('/kaggle/working')\n\nzip_filename = f\"{PROJECT_NAME}_training.zip\"\nfolder_to_zip = \"training\"\n\nprint(f\"📦 Creating archive: {zip_filename}\")\n\n!zip -r -q {zip_filename} {folder_to_zip}/\n\nzip_path = f'/kaggle/working/{zip_filename}'\n\nif os.path.exists(zip_path):\n    file_size = os.path.getsize(zip_path) / (1024*1024)  # у MB\n    print(f\"\\n✅ Archive created successfully!\")\n    print(f\"📁 File: {zip_filename}\")\n    print(f\"📊 Size: {file_size:.1f} MB\")\n    print(f\"📍 Path: {zip_path}\")\n    \n    print(f\"\\n📋 Archive contents:\")\n    !zipinfo {zip_filename} | head -20\n    \n    display(HTML(f'''\n    <div style=\"background-color: #e8f5e8; padding: 15px; border-radius: 10px; margin: 10px 0;\">\n        <h3>📥 Download Ready</h3>\n        <a href=\"{zip_filename}\" download style=\"background-color: #4CAF50; color: white; padding: 10px 20px; text-decoration: none; border-radius: 5px; font-weight: bold;\">\n            📥 Download {zip_filename} ({file_size:.1f} MB)\n        </a>\n    </div>\n    '''))\nelse:\n    print(\"❌ Error: Archive not created!\")\n    print(\"📁 Checking working directory contents:\")\n    !ls -la /kaggle/working/",
   "metadata": {
    "trusted": true,
    "execution": {
     "iopub.status.busy": "2025-07-16T15:28:53.116662Z",
     "iopub.execute_input": "2025-07-16T15:28:53.117423Z",
     "iopub.status.idle": "2025-07-16T15:28:54.380818Z",
     "shell.execute_reply.started": "2025-07-16T15:28:53.117400Z",
     "shell.execute_reply": "2025-07-16T15:28:54.380041Z"
    }
   },
   "outputs": [
    {
     "name": "stdout",
     "text": "📦 Creating archive: yolo8n_pt_512_coco_full_training.zip\n\n✅ Archive created successfully!\n📁 File: yolo8n_pt_512_coco_full_training.zip\n📊 Size: 17.4 MB\n📍 Path: /kaggle/working/yolo8n_pt_512_coco_full_training.zip\n\n📋 Archive contents:\nArchive:  yolo8n_pt_512_coco_full_training.zip\nZip file size: 18251037 bytes, number of entries: 30\ndrwxr-xr-x  3.0 unx        0 bx stor 25-Jul-16 12:52 training/\ndrwxr-xr-x  3.0 unx        0 bx stor 25-Jul-16 15:28 training/yolo8n_pt_512_coco_full/\n-rw-r--r--  3.0 unx   180690 bx defN 25-Jul-16 15:27 training/yolo8n_pt_512_coco_full/BoxR_curve.png\n-rw-r--r--  3.0 unx   547609 bx defN 25-Jul-16 15:26 training/yolo8n_pt_512_coco_full/val_batch2_labels.jpg\n-rw-r--r--  3.0 unx   181732 bx defN 25-Jul-16 12:53 training/yolo8n_pt_512_coco_full/labels.jpg\n-rw-r--r--  3.0 unx     1063 tx defN 25-Jul-16 15:28 training/yolo8n_pt_512_coco_full/README.md\n-rw-r--r--  3.0 unx   364073 bx defN 25-Jul-16 15:26 training/yolo8n_pt_512_coco_full/val_batch0_labels.jpg\n-rw-r--r--  3.0 unx   455518 bx defN 25-Jul-16 14:56 training/yolo8n_pt_512_coco_full/train_batch7041.jpg\n-rw-r--r--  3.0 unx   491085 bx defN 25-Jul-16 14:56 training/yolo8n_pt_512_coco_full/train_batch7042.jpg\n-rw-r--r--  3.0 unx   268830 bx defN 25-Jul-16 15:27 training/yolo8n_pt_512_coco_full/results.png\n-rw-r--r--  3.0 unx     6426 tx defN 25-Jul-16 15:26 training/yolo8n_pt_512_coco_full/results.csv\n-rw-r--r--  3.0 unx   565115 bx defN 25-Jul-16 12:53 training/yolo8n_pt_512_coco_full/train_batch0.jpg\n-rw-r--r--  3.0 unx   565559 bx defN 25-Jul-16 12:53 training/yolo8n_pt_512_coco_full/train_batch1.jpg\n-rw-r--r--  3.0 unx   373344 bx defN 25-Jul-16 15:26 training/yolo8n_pt_512_coco_full/val_batch0_pred.jpg\n-rw-r--r--  3.0 unx   136822 bx defN 25-Jul-16 15:27 training/yolo8n_pt_512_coco_full/confusion_matrix.png\n-rw-r--r--  3.0 unx   179243 bx defN 25-Jul-16 15:27 training/yolo8n_pt_512_coco_full/BoxPR_curve.png\n-rw-r--r--  3.0 unx   561066 bx defN 25-Jul-16 15:26 training/yolo8n_pt_512_coco_full/val_batch2_pred.jpg\n-rw-r--r--  3.0 unx     1598 tx defN 25-Jul-16 12:52 training/yolo8n_pt_512_coco_full/args.yaml\n",
     "output_type": "stream"
    },
    {
     "output_type": "display_data",
     "data": {
      "text/plain": "<IPython.core.display.HTML object>",
      "text/html": "\n    <div style=\"background-color: #e8f5e8; padding: 15px; border-radius: 10px; margin: 10px 0;\">\n        <h3>📥 Download Ready</h3>\n        <a href=\"yolo8n_pt_512_coco_full_training.zip\" download style=\"background-color: #4CAF50; color: white; padding: 10px 20px; text-decoration: none; border-radius: 5px; font-weight: bold;\">\n            📥 Download yolo8n_pt_512_coco_full_training.zip (17.4 MB)\n        </a>\n    </div>\n    "
     },
     "metadata": {}
    }
   ],
   "execution_count": 18
  }
 ]
}
